{
 "cells": [
  {
   "cell_type": "code",
   "execution_count": null,
   "metadata": {},
   "outputs": [],
   "source": [
    "import numpy as np\n",
    "# from scipy.linalg import eig, solve_continuous_are\n",
    "import control as ct\n",
    "\n",
    "np.set_printoptions(precision=4, suppress=True)"
   ]
  },
  {
   "cell_type": "code",
   "execution_count": 11,
   "metadata": {},
   "outputs": [
    {
     "name": "stdout",
     "output_type": "stream",
     "text": [
      "Combined A matrix:\n",
      "[[  0.       1.       0.       0.       0.       0.    ]\n",
      " [ 36.5724   0.       0.       0.       0.       0.    ]\n",
      " [-36.5724   0.       0.       0.       0.       0.    ]\n",
      " [  0.       0.       0.       0.       1.       0.    ]\n",
      " [  0.       0.       0.      16.6435   0.       0.    ]\n",
      " [  0.       0.       0.      -1.2029   0.       0.    ]]\n",
      "Combined B matrix:\n",
      "[[   0.        0.    ]\n",
      " [ -14.2       0.    ]\n",
      " [1316.3       0.    ]\n",
      " [   0.        0.    ]\n",
      " [   0.       -3.2179]\n",
      " [   0.       17.6336]]\n"
     ]
    }
   ],
   "source": [
    "# Roll dynamics matrices\n",
    "A_roll = np.array([\n",
    "    [0, 1, 0],\n",
    "    [36.5724, 0, 0],\n",
    "    [-36.5724, 0, 0]\n",
    "])\n",
    "\n",
    "B_roll = np.array([\n",
    "    [0],\n",
    "    [-0.0142],\n",
    "    [1.3163]\n",
    "]) * 10**3\n",
    "\n",
    "# Pitch dynamics matrices\n",
    "A_pitch = np.array([\n",
    "    [0, 1, 0],\n",
    "    [16.6435, 0, 0],\n",
    "    [-1.2029, 0, 0]\n",
    "])\n",
    "\n",
    "B_pitch = np.array([\n",
    "    [0],\n",
    "    [-3.2179],\n",
    "    [17.6336]\n",
    "])\n",
    "\n",
    "# Combine roll and pitch dynamics into full matrices\n",
    "A_full = np.block([\n",
    "    [A_roll, np.zeros((3, 3))],\n",
    "    [np.zeros((3, 3)), A_pitch]\n",
    "])\n",
    "\n",
    "B_full = np.block([\n",
    "    [B_roll, np.zeros((3, 1))],\n",
    "    [np.zeros((3, 1)), B_pitch]\n",
    "])\n",
    "\n",
    "# Display combined matrices\n",
    "print(\"Combined A matrix:\")\n",
    "print(A_full)\n",
    "\n",
    "print(\"Combined B matrix:\")\n",
    "print(B_full)"
   ]
  },
  {
   "cell_type": "code",
   "execution_count": 13,
   "metadata": {},
   "outputs": [
    {
     "name": "stdout",
     "output_type": "stream",
     "text": [
      "LQR gain matrix K (control package):\n",
      "[[-1120.2506  -186.2469    -1.        -0.        -0.        -0.    ]\n",
      " [    0.         0.         0.       -54.837    -13.549     -1.    ]]\n"
     ]
    }
   ],
   "source": [
    "# Penalty weights\n",
    "# phi_penalty = 1\n",
    "# phidot_penalty = 1\n",
    "# thetadot_penalty = 1\n",
    "\n",
    "# torque_penalty = 1\n",
    "\n",
    "phi_penalty = 1\n",
    "phidot_penalty = 1\n",
    "thetadot_penalty = 1\n",
    "torque_penalty = 1\n",
    "\n",
    "# Define the weighting matrices for LQR\n",
    "Q = np.diag([\n",
    "    phi_penalty, phidot_penalty, thetadot_penalty,  # roll\n",
    "    phi_penalty, phidot_penalty, thetadot_penalty  # pitch\n",
    "])\n",
    "\n",
    "R = np.diag([\n",
    "    torque_penalty,\n",
    "    torque_penalty\n",
    "])\n",
    "\n",
    "# Solve the Continuous Algebraic Riccati Equation manually\n",
    "# P = solve_continuous_are(A_full, B_full, Q, R)\n",
    "\n",
    "# Compute the LQR gain matrix K manually\n",
    "# K_scipy = np.linalg.inv(R) @ (B_full.T @ P)\n",
    "\n",
    "# Compute the LQR gain matrix using the control library\n",
    "K_control, _, _ = ct.lqr(A_full, B_full, Q, R)\n",
    "\n",
    "# Display LQR gain matrices\n",
    "# print(\"LQR gain matrix K (Scipy):\")\n",
    "# print(K_scipy)\n",
    "\n",
    "print(\"LQR gain matrix K (control package):\")\n",
    "print(K_control)"
   ]
  },
  {
   "cell_type": "code",
   "execution_count": 14,
   "metadata": {},
   "outputs": [
    {
     "name": "stdout",
     "output_type": "stream",
     "text": [
      "LQR eigenvalues (control package):\n",
      "[-1316.3769+0.j        -6.0145+0.032j     -6.0145-0.032j\n",
      "   -17.9685+0.j        -3.9986+0.3589j    -3.9986-0.3589j]\n",
      "Eigenvector 1 (control package): [ 0.     -0.0108  0.9999 -0.      0.     -0.    ]\n",
      "Eigenvector 2 (control package): [ 0.1176 -0.7071 -0.0001 -0.      0.     -0.    ]\n",
      "Eigenvector 3 (control package): [ 0.1176 -0.7071 -0.0001 -0.      0.     -0.    ]\n"
     ]
    }
   ],
   "source": [
    "A_cl = A_full - B_full @ K_control\n",
    "\n",
    "# Compute eigenvalues and eigenvectors of the closed-loop system using control\n",
    "eigenvalues, eigenvectors = np.linalg.eig(A_cl)\n",
    "\n",
    "# Display eigenvalues\n",
    "print(\"LQR eigenvalues (control package):\")\n",
    "print(eigenvalues)\n",
    "\n",
    "# Display eigenvectors\n",
    "evector_1 = eigenvectors[:, 0].real  # First eigenvector\n",
    "evector_2 = eigenvectors[:, 1].real  # Second eigenvector\n",
    "evector_3 = eigenvectors[:, 2].real  # Third eigenvector\n",
    "\n",
    "print(\"Eigenvector 1 (control package):\", evector_1)\n",
    "print(\"Eigenvector 2 (control package):\", evector_2)\n",
    "print(\"Eigenvector 3 (control package):\", evector_3)"
   ]
  }
 ],
 "metadata": {
  "kernelspec": {
   "display_name": "python-env",
   "language": "python",
   "name": "python3"
  },
  "language_info": {
   "codemirror_mode": {
    "name": "ipython",
    "version": 3
   },
   "file_extension": ".py",
   "mimetype": "text/x-python",
   "name": "python",
   "nbconvert_exporter": "python",
   "pygments_lexer": "ipython3",
   "version": "3.12.3"
  }
 },
 "nbformat": 4,
 "nbformat_minor": 2
}
