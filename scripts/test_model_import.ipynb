{
 "cells": [
  {
   "cell_type": "code",
   "execution_count": 2,
   "metadata": {},
   "outputs": [],
   "source": [
    "import numpy as np\n",
    "import onnxruntime as ort"
   ]
  },
  {
   "cell_type": "code",
   "execution_count": 3,
   "metadata": {},
   "outputs": [],
   "source": [
    "model = ort.InferenceSession('/Users/jacksonfraser/Desktop/ubc/capstone/rl-unicycle/src/rluni/configs/rlmodels/broomy-balance-export.onnx')"
   ]
  },
  {
   "cell_type": "code",
   "execution_count": 4,
   "metadata": {},
   "outputs": [
    {
     "name": "stdout",
     "output_type": "stream",
     "text": [
      "['obs', 'out_state.1', 'hidden_state.1']\n"
     ]
    }
   ],
   "source": [
    "print([m.name for m in model.get_inputs()])"
   ]
  },
  {
   "cell_type": "code",
   "execution_count": 5,
   "metadata": {},
   "outputs": [
    {
     "name": "stdout",
     "output_type": "stream",
     "text": [
      "['mu', 'log_std', 'value', 'out_state', 'hidden_state']\n"
     ]
    }
   ],
   "source": [
    "print([m.name for m in model.get_outputs()])"
   ]
  },
  {
   "cell_type": "code",
   "execution_count": 11,
   "metadata": {},
   "outputs": [],
   "source": [
    "obs = np.zeros((1, 9))\n",
    "actions = model.run(None, {\"obs\": obs.astype(np.float32), \"out_state.1\": np.zeros((1, 1, 64)).astype(np.float32), \"hidden_state.1\": np.zeros((1, 1, 64)).astype(np.float32)})\n"
   ]
  },
  {
   "cell_type": "code",
   "execution_count": 14,
   "metadata": {},
   "outputs": [
    {
     "data": {
      "text/plain": [
       "[array([[-0.19074686, -0.5709284 , -0.39757788]], dtype=float32),\n",
       " array([[-1.7873815 , -1.550586  , -0.73877263]], dtype=float32),\n",
       " array([[-0.9873324]], dtype=float32),\n",
       " array([[[-0.00451732, -0.01676596, -0.0818724 ,  0.21182357,\n",
       "           0.02333322,  0.0218096 ,  0.17683436,  0.07081157,\n",
       "           0.0035315 ,  0.01028517, -0.01981945, -0.1112252 ,\n",
       "           0.02941623, -0.00606415, -0.00851626, -0.02299573,\n",
       "          -0.22148655, -0.02170232,  0.19524302,  0.0739871 ,\n",
       "          -0.23152182, -0.07571425,  0.02302839,  0.34457266,\n",
       "           0.04238996,  0.01519346,  0.15243208,  0.08324268,\n",
       "           0.07985847,  0.01712808, -0.36759904,  0.25792718,\n",
       "           0.06624041, -0.04645577,  0.08020545,  0.02812337,\n",
       "          -0.05587363, -0.03311963, -0.03424046, -0.13455725,\n",
       "           0.05310815,  0.11388183, -0.00977035, -0.05423302,\n",
       "          -0.02903421, -0.07381475,  0.02723096, -0.00874727,\n",
       "          -0.00472804, -0.00219052, -0.00403425,  0.04976271,\n",
       "           0.02202273, -0.06451706,  0.36087358, -0.08145621,\n",
       "           0.00235057,  0.11116555, -0.035902  ,  0.011431  ,\n",
       "          -0.13934459, -0.0185618 ,  0.36698663, -0.01910618]]],\n",
       "       dtype=float32),\n",
       " array([[[-0.02808333, -0.06486878, -0.18919171,  0.44115636,\n",
       "           0.05608068,  0.09712616,  0.23379472,  0.11270414,\n",
       "           0.00477283,  0.14065875, -0.04067728, -0.41243207,\n",
       "           0.10540971, -0.0177528 , -0.0547471 , -0.0633361 ,\n",
       "          -0.50135607, -0.04567355,  0.5298796 ,  0.13483511,\n",
       "          -0.32159385, -0.1727825 ,  0.0784512 ,  0.5221913 ,\n",
       "           0.1646529 ,  0.02886584,  0.24595977,  0.17997767,\n",
       "           0.17278898,  0.06537747, -0.46834898,  0.6288686 ,\n",
       "           0.21957785, -0.12383482,  0.26621068,  0.08365419,\n",
       "          -0.08257595, -0.10214217, -0.12460805, -0.25433347,\n",
       "           0.15612607,  0.19401953, -0.02434621, -0.11027622,\n",
       "          -0.09792594, -0.1353375 ,  0.06064772, -0.05751529,\n",
       "          -0.01923853, -0.00399844, -0.0451231 ,  0.09511164,\n",
       "           0.04736622, -0.16624796,  0.5350919 , -0.35066307,\n",
       "           0.02073021,  0.14993677, -0.16988146,  0.03441777,\n",
       "          -0.2721971 , -0.02675407,  0.5871583 , -0.05040317]]],\n",
       "       dtype=float32)]"
      ]
     },
     "execution_count": 14,
     "metadata": {},
     "output_type": "execute_result"
    }
   ],
   "source": [
    "actions"
   ]
  },
  {
   "cell_type": "code",
   "execution_count": 12,
   "metadata": {},
   "outputs": [
    {
     "data": {
      "text/plain": [
       "array([-0.19074686, -0.5709284 , -0.39757788], dtype=float32)"
      ]
     },
     "execution_count": 12,
     "metadata": {},
     "output_type": "execute_result"
    }
   ],
   "source": [
    "actions[0][0]"
   ]
  },
  {
   "cell_type": "code",
   "execution_count": 13,
   "metadata": {},
   "outputs": [
    {
     "data": {
      "text/plain": [
       "(1, 1, 64)"
      ]
     },
     "execution_count": 13,
     "metadata": {},
     "output_type": "execute_result"
    }
   ],
   "source": [
    "actions[-1].shape"
   ]
  },
  {
   "cell_type": "code",
   "execution_count": null,
   "metadata": {},
   "outputs": [],
   "source": []
  }
 ],
 "metadata": {
  "kernelspec": {
   "display_name": "mlx",
   "language": "python",
   "name": "python3"
  },
  "language_info": {
   "codemirror_mode": {
    "name": "ipython",
    "version": 3
   },
   "file_extension": ".py",
   "mimetype": "text/x-python",
   "name": "python",
   "nbconvert_exporter": "python",
   "pygments_lexer": "ipython3",
   "version": "3.11.5"
  }
 },
 "nbformat": 4,
 "nbformat_minor": 2
}
